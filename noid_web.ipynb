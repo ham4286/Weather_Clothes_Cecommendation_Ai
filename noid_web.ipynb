{
  "cells": [
    {
      "cell_type": "code",
      "execution_count": 1,
      "metadata": {
        "id": "m2jL9q5s5osO"
      },
      "outputs": [],
      "source": [
        "%matplotlib inline\n",
        "\n",
        "import numpy as np\n",
        "import matplotlib.pyplot as plt\n",
        "import random\n",
        "import os\n",
        "import cv2\n",
        "import shutil\n",
        "import tqdm\n",
        "import glob\n"
      ]
    },
    {
      "cell_type": "code",
      "execution_count": 2,
      "metadata": {
        "colab": {
          "base_uri": "https://localhost:8080/"
        },
        "id": "_BzxIG_g5qBf",
        "outputId": "45b6e3a1-9f8a-4e7c-f82b-ac4408aa9390"
      },
      "outputs": [
        {
          "name": "stdout",
          "output_type": "stream",
          "text": [
            "30.89\n",
            "30\n"
          ]
        }
      ],
      "source": [
        "#날씨\n",
        "import requests\n",
        "import json\n",
        "\n",
        "city = \"Seoul\" #도시\n",
        "apiKey = \"25ae92023210f98156f2d65b5cdb15b6\"\n",
        "lang = 'kr' #언어\n",
        "units = 'metric' #화씨 온도를 섭씨 온도로 변경\n",
        "api = f\"https://api.openweathermap.org/data/2.5/weather?q={city}&APPID={apiKey}&lang={lang}&units={units}\"\n",
        "\n",
        "result = requests.get(api)\n",
        "result = json.loads(result.text)\n",
        "\n",
        "print(result['main']['temp'])\n",
        "current_weather = int(result['main']['temp'])\n",
        "print(current_weather)"
      ]
    },
    {
      "cell_type": "code",
      "execution_count": 3,
      "metadata": {
        "id": "TFrz54Hk5sQo"
      },
      "outputs": [],
      "source": [
        "import torch\n",
        "from ultralytics import YOLO,ASSETS\n",
        "\n",
        "device = torch.device(\"cuda:0\" if torch.cuda.is_available() else \"cpu\")\n",
        "# 모델 불러오기\n",
        "path = \"C:/Users/ham42/Downloads/Noid/Noid_projcet/best.pt\"\n",
        "model = YOLO(path)\n",
        "model = model.to(device)\n",
        "\n"
      ]
    },
    {
      "cell_type": "code",
      "execution_count": 4,
      "metadata": {
        "colab": {
          "base_uri": "https://localhost:8080/",
          "height": 628
        },
        "id": "u0LZDhNZ4j7q",
        "outputId": "1df59b47-bec8-4512-9e18-b849fd965804"
      },
      "outputs": [
        {
          "name": "stderr",
          "output_type": "stream",
          "text": [
            "c:\\Users\\ham42\\AppData\\Local\\Programs\\Python\\Python311\\Lib\\site-packages\\tqdm\\auto.py:21: TqdmWarning: IProgress not found. Please update jupyter and ipywidgets. See https://ipywidgets.readthedocs.io/en/stable/user_install.html\n",
            "  from .autonotebook import tqdm as notebook_tqdm\n"
          ]
        },
        {
          "name": "stdout",
          "output_type": "stream",
          "text": [
            "Running on local URL:  http://127.0.0.1:7860\n",
            "\n",
            "To create a public link, set `share=True` in `launch()`.\n"
          ]
        },
        {
          "data": {
            "text/html": [
              "<div><iframe src=\"http://127.0.0.1:7860/\" width=\"100%\" height=\"500\" allow=\"autoplay; camera; microphone; clipboard-read; clipboard-write;\" frameborder=\"0\" allowfullscreen></iframe></div>"
            ],
            "text/plain": [
              "<IPython.core.display.HTML object>"
            ]
          },
          "metadata": {},
          "output_type": "display_data"
        },
        {
          "name": "stdout",
          "output_type": "stream",
          "text": [
            "\n",
            "0: 640x416 1 jacket, 1 shirt, 1 pants, 1 shoe, 594.2ms\n",
            "Speed: 0.0ms preprocess, 594.2ms inference, 1.2ms postprocess per image at shape (1, 3, 640, 416)\n",
            "\n",
            "0: 640x544 2 jackets, 1 pants, 1 skirt, 1 dress, 781.1ms\n",
            "Speed: 112.7ms preprocess, 781.1ms inference, 0.0ms postprocess per image at shape (1, 3, 640, 544)\n"
          ]
        }
      ],
      "source": [
        "import gradio as gr\n",
        "import PIL.Image as Image\n",
        "\n",
        "#현재 날씨로 적정 옷 분류\n",
        "if current_weather <= 15:\n",
        "  iswarm = False\n",
        "elif current_weather > 15:\n",
        "  iswarm = True\n",
        "\n",
        "\n",
        "\n",
        "\n",
        "\n",
        "def predict_image(img):\n",
        "    \"\"\"Predicts objects in an image using a YOLOv8 model with adjustable confidence and IOU thresholds.\"\"\"\n",
        "    results = model.predict(source=img, conf=0.4,show_labels=True,imgsz=640\n",
        "    )\n",
        "\n",
        "    for r in results:\n",
        "        im_array = r.plot()\n",
        "        im = Image.fromarray(im_array[..., ::-1])\n",
        "        for box in r.boxes:\n",
        "          class_id = int(box.data[0][-1])\n",
        "          if 'jacket' in model.names[class_id]:\n",
        "              top_wear = True\n",
        "\n",
        "          if 'pants' in model.names[class_id]:\n",
        "              bottom_wear = True\n",
        "\n",
        "          if 'shirt' in model.names[class_id]:\n",
        "              if 'jacket' in model.names[class_id]:\n",
        "                top_wear = True\n",
        "\n",
        "              top_wear = False\n",
        "\n",
        "          if 'shorts' in model.names[class_id]:\n",
        "              bottom_wear = False\n",
        "          if 'skirt' in model.names[class_id]:\n",
        "              bottom_wear = False\n",
        "        \n",
        "        if iswarm == top_wear:\n",
        "          if iswarm == True:\n",
        "            res =  (\"날씨가 덥기 때문에 상의 패션은 적절하지 않습니다. 다시 선택해주세요!\")\n",
        "          if iswarm == False:\n",
        "            res = (\"날씨가 춥기 때문에 상의 패션은 적절하지 않습니다. 다시 선택해주세요!\")\n",
        "\n",
        "        if iswarm != top_wear:\n",
        "            res =  (\"오늘에 날씨에 딱맞게 선택하셨습니다. 상의 옷은 입으셔도 됩니다!\")\n",
        "        if iswarm == bottom_wear:\n",
        "          if iswarm == True:\n",
        "            res1 = (\"날씨가 덥기 때문에 하의 패션은 적절하지 않습니다. 다시 선택해주세요!\")\n",
        "          elif iswarm == False:\n",
        "            res1 = (\"날씨가 춥기 때문에 하의 패션은 적절하지 않습니다. 다시 선택해주세요!\")\n",
        "\n",
        "        if iswarm != bottom_wear:\n",
        "            res1 = (\"오늘에 날씨에 딱맞게 선택하셨습니다. 하의 옷은 입으셔도 됩니다!\")\n",
        "\n",
        "\n",
        "\n",
        "\n",
        "    return im, res, res1\n",
        "\n",
        "\n",
        "iface = gr.Interface(\n",
        "    fn=predict_image,\n",
        "    inputs=[\n",
        "        gr.Image(type=\"pil\", label=\"Upload Image\"),\n",
        "    ],\n",
        "    outputs=[\n",
        "       gr.Image(type=\"pil\", label=\"결과\"),\n",
        "       gr.Textbox(label=\"코멘트\"),\n",
        "       gr.Textbox(label=\"코멘트\")\n",
        "       ],\n",
        "    title=\"Weather Clothes Cecommendation Ai\",\n",
        "    description=\"NOID\",\n",
        "    examples=[\n",
        "        [ASSETS / \"bus.jpg\", 0.25, 0.45],\n",
        "        [ASSETS / \"zidane.jpg\", 0.25, 0.45],\n",
        "    ],\n",
        "\n",
        ")\n",
        "\n",
        "if __name__ == \"__main__\":\n",
        "    iface.launch()\n"
      ]
    }
  ],
  "metadata": {
    "colab": {
      "provenance": []
    },
    "kernelspec": {
      "display_name": "Python 3",
      "name": "python3"
    },
    "language_info": {
      "codemirror_mode": {
        "name": "ipython",
        "version": 3
      },
      "file_extension": ".py",
      "mimetype": "text/x-python",
      "name": "python",
      "nbconvert_exporter": "python",
      "pygments_lexer": "ipython3",
      "version": "3.11.5"
    }
  },
  "nbformat": 4,
  "nbformat_minor": 0
}
